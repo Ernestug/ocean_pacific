{
  "nbformat": 4,
  "nbformat_minor": 0,
  "metadata": {
    "colab": {
      "provenance": [],
      "authorship_tag": "ABX9TyPbRxaczxsRAbmEvlx9oXPx",
      "include_colab_link": true
    },
    "kernelspec": {
      "name": "python3",
      "display_name": "Python 3"
    },
    "language_info": {
      "name": "python"
    }
  },
  "cells": [
    {
      "cell_type": "markdown",
      "metadata": {
        "id": "view-in-github",
        "colab_type": "text"
      },
      "source": [
        "<a href=\"https://colab.research.google.com/github/Ernestug/ocean_pacific/blob/main/Untitled38.ipynb\" target=\"_parent\"><img src=\"https://colab.research.google.com/assets/colab-badge.svg\" alt=\"Open In Colab\"/></a>"
      ]
    },
    {
      "cell_type": "markdown",
      "source": [
        "A. Functions:\n"
      ],
      "metadata": {
        "id": "s0IAtR5SZvJQ"
      }
    },
    {
      "cell_type": "code",
      "execution_count": 1,
      "metadata": {
        "colab": {
          "base_uri": "https://localhost:8080/"
        },
        "id": "m3nlZmLhZLm4",
        "outputId": "e0c850d7-67d2-4718-b1c6-75ffedba2054"
      },
      "outputs": [
        {
          "output_type": "stream",
          "name": "stdout",
          "text": [
            "True\n",
            "False\n"
          ]
        }
      ],
      "source": [
        "# Define a function is_even\n",
        "def is_even(number):\n",
        "    return number % 2 == 0\n",
        "\n",
        "# Test the function\n",
        "print(is_even(4))  # True\n",
        "print(is_even(7))  # False\n"
      ]
    },
    {
      "cell_type": "markdown",
      "source": [
        "B. Factorial Function:\n"
      ],
      "metadata": {
        "id": "aWxHs2wmZ02b"
      }
    },
    {
      "cell_type": "code",
      "source": [
        "# Define a function factorial\n",
        "def factorial(n):\n",
        "    if n == 0:\n",
        "        return 1\n",
        "    else:\n",
        "        result = 1\n",
        "        for i in range(1, n + 1):\n",
        "            result *= i\n",
        "        return result\n",
        "\n",
        "# Test the function\n",
        "print(factorial(5))  # 120 (5! = 5*4*3*2*1)\n"
      ],
      "metadata": {
        "colab": {
          "base_uri": "https://localhost:8080/"
        },
        "id": "SM-wyXKTZa0d",
        "outputId": "fb53d1d3-1d1c-4a45-e3ed-d9f434b7411e"
      },
      "execution_count": 2,
      "outputs": [
        {
          "output_type": "stream",
          "name": "stdout",
          "text": [
            "120\n"
          ]
        }
      ]
    },
    {
      "cell_type": "markdown",
      "source": [
        "C. Fibonacci Function:\n"
      ],
      "metadata": {
        "id": "LXZDyD_HaGZp"
      }
    },
    {
      "cell_type": "code",
      "source": [
        "# Define a function fibonacci\n",
        "def fibonacci(n):\n",
        "    if n <= 0:\n",
        "        return 0\n",
        "    elif n == 1:\n",
        "        return 1\n",
        "    else:\n",
        "        a, b = 0, 1\n",
        "        for _ in range(2, n + 1):\n",
        "            a, b = b, a + b\n",
        "        return b\n",
        "\n",
        "# Test the function\n",
        "print(fibonacci(7))  # 13 (7th number in Fibonacci sequence)\n"
      ],
      "metadata": {
        "colab": {
          "base_uri": "https://localhost:8080/"
        },
        "id": "K_i2Q7FXaJ3E",
        "outputId": "b4e37ef4-b92a-45cd-b138-df6a3686f9a5"
      },
      "execution_count": 3,
      "outputs": [
        {
          "output_type": "stream",
          "name": "stdout",
          "text": [
            "13\n"
          ]
        }
      ]
    },
    {
      "cell_type": "markdown",
      "source": [
        "\n",
        "B While Loops\n",
        "\n"
      ],
      "metadata": {
        "id": "dqn8S0TGaPdL"
      }
    },
    {
      "cell_type": "markdown",
      "source": [
        "A. Defining a Class:\n"
      ],
      "metadata": {
        "id": "VbWG7u-ZawtX"
      }
    },
    {
      "cell_type": "code",
      "source": [
        "# Define a Dog class\n",
        "class Dog:\n",
        "    def __init__(self, name, age):\n",
        "        self.name = name\n",
        "        self.age = age\n",
        "\n",
        "# Instantiate a Dog\n",
        "my_dog = Dog(\"Buddy\", 3)\n"
      ],
      "metadata": {
        "id": "Njt6sinMaTrb"
      },
      "execution_count": 4,
      "outputs": []
    },
    {
      "cell_type": "markdown",
      "source": [
        "B. Instance Methods:"
      ],
      "metadata": {
        "id": "EN7Aml5marWZ"
      }
    },
    {
      "cell_type": "code",
      "source": [
        "# Add a bark method to the Dog class\n",
        "class Dog:\n",
        "    def __init__(self, name, age):\n",
        "        self.name = name\n",
        "        self.age = age\n",
        "\n",
        "    def bark(self):\n",
        "        print(f\"Woof! My name is {self.name}\")\n",
        "\n",
        "# Create an instance and make it bark\n",
        "my_dog = Dog(\"Buddy\", 3)\n",
        "my_dog.bark()\n"
      ],
      "metadata": {
        "colab": {
          "base_uri": "https://localhost:8080/"
        },
        "id": "mSlMFx1BagoK",
        "outputId": "72c2a33d-c085-4e16-e537-dd349169de26"
      },
      "execution_count": 6,
      "outputs": [
        {
          "output_type": "stream",
          "name": "stdout",
          "text": [
            "Woof! My name is Buddy\n"
          ]
        }
      ]
    },
    {
      "cell_type": "markdown",
      "source": [
        "C. Working with Instances:"
      ],
      "metadata": {
        "id": "G5nJXou6a4xP"
      }
    },
    {
      "cell_type": "code",
      "source": [
        "# Instantiate two dogs and store them in a list\n",
        "dog1 = Dog(\"Buddy\", 3)\n",
        "dog2 = Dog(\"Molly\", 2)\n",
        "dog_pack = [dog1, dog2]\n",
        "\n",
        "# Call bark on each dog in dog_pack\n",
        "for dog in dog_pack:\n",
        "    dog.bark()\n",
        "\n",
        "# Calculate the average age of dogs in dog_pack\n",
        "total_age = sum(dog.age for dog in dog_pack)\n",
        "average_age = total_age / len(dog_pack)\n",
        "print(f\"Average age of dogs in dog_pack: {average_age}\")\n"
      ],
      "metadata": {
        "colab": {
          "base_uri": "https://localhost:8080/"
        },
        "id": "INEoDrkQa16p",
        "outputId": "8fc24983-1119-417a-c17e-a63d80327545"
      },
      "execution_count": 7,
      "outputs": [
        {
          "output_type": "stream",
          "name": "stdout",
          "text": [
            "Woof! My name is Buddy\n",
            "Woof! My name is Molly\n",
            "Average age of dogs in dog_pack: 2.5\n"
          ]
        }
      ]
    },
    {
      "cell_type": "markdown",
      "source": [
        "D. Additional Method in Class:"
      ],
      "metadata": {
        "id": "rb-FYBFBbBsq"
      }
    },
    {
      "cell_type": "code",
      "source": [
        "# Add a have_birthday method to the Dog class\n",
        "class Dog:\n",
        "    def __init__(self, name, age):\n",
        "        self.name = name\n",
        "        self.age = age\n",
        "\n",
        "    def bark(self):\n",
        "        print(f\"Woof! My name is {self.name}\")\n",
        "\n",
        "    def have_birthday(self):\n",
        "        self.age += 1\n",
        "        print(f\"Happy birthday, {self.name}! You are now {self.age} years old.\")\n",
        "\n",
        "# Call have_birthday on one of the dog instances\n",
        "my_dog = Dog(\"Buddy\", 3)\n",
        "my_dog.have_birthday()\n",
        "print(f\"{my_dog.name} is now {my_dog.age} years old.\")\n"
      ],
      "metadata": {
        "colab": {
          "base_uri": "https://localhost:8080/"
        },
        "id": "SCTV1v-8bC1w",
        "outputId": "0e6f7fef-e5f1-4558-d9eb-bfe76a6e9024"
      },
      "execution_count": 8,
      "outputs": [
        {
          "output_type": "stream",
          "name": "stdout",
          "text": [
            "Happy birthday, Buddy! You are now 4 years old.\n",
            "Buddy is now 4 years old.\n"
          ]
        }
      ]
    },
    {
      "cell_type": "markdown",
      "source": [
        "Bonus Task (Cat class):"
      ],
      "metadata": {
        "id": "HZ5i6AKybFaf"
      }
    },
    {
      "cell_type": "code",
      "source": [
        "# Define a Cat class\n",
        "class Cat:\n",
        "    def __init__(self, name, age):\n",
        "        self.name = name\n",
        "        self.age = age\n",
        "\n",
        "    def meow(self):\n",
        "        print(f\"Meow! I'm {self.name}\")\n",
        "\n",
        "    def print_info(self):\n",
        "        print(f\"I'm {self.name} and I'm {self.age} years old.\")\n",
        "\n",
        "# Instantiate some cats\n",
        "cat1 = Cat(\"Whiskers\", 2)\n",
        "cat2 = Cat(\"Smokey\", 4)\n",
        "cat3 = Cat(\"Luna\", 1)\n",
        "\n",
        "# Call their methods and work with lists and loops\n",
        "cat_list = [cat1, cat2, cat3]\n",
        "for cat in cat_list:\n",
        "    cat.meow()\n",
        "    cat.print_info()\n"
      ],
      "metadata": {
        "colab": {
          "base_uri": "https://localhost:8080/"
        },
        "id": "j7x6nJTvbKf0",
        "outputId": "c843ff08-24ba-4311-f893-b9b005eeb64a"
      },
      "execution_count": 9,
      "outputs": [
        {
          "output_type": "stream",
          "name": "stdout",
          "text": [
            "Meow! I'm Whiskers\n",
            "I'm Whiskers and I'm 2 years old.\n",
            "Meow! I'm Smokey\n",
            "I'm Smokey and I'm 4 years old.\n",
            "Meow! I'm Luna\n",
            "I'm Luna and I'm 1 years old.\n"
          ]
        }
      ]
    },
    {
      "cell_type": "markdown",
      "source": [
        "Part 3: map(), filter(), reduce()"
      ],
      "metadata": {
        "id": "jX8m8Ie9bO4d"
      }
    },
    {
      "cell_type": "markdown",
      "source": [
        "A. map() Function:"
      ],
      "metadata": {
        "id": "rnmGDh3abY6E"
      }
    },
    {
      "cell_type": "code",
      "source": [
        "# Define a function square\n",
        "def square(num):\n",
        "    return num * num\n",
        "\n",
        "# Use map to apply square to a list of numbers\n",
        "numbers = [1, 2, 3, 4, 5]\n",
        "squared_numbers = list(map(square, numbers))\n",
        "print(squared_numbers)\n"
      ],
      "metadata": {
        "colab": {
          "base_uri": "https://localhost:8080/"
        },
        "id": "lktLId6hbc0d",
        "outputId": "4f0c7ad8-b19e-41d0-ffb0-bf5699b37398"
      },
      "execution_count": 10,
      "outputs": [
        {
          "output_type": "stream",
          "name": "stdout",
          "text": [
            "[1, 4, 9, 16, 25]\n"
          ]
        }
      ]
    },
    {
      "cell_type": "markdown",
      "source": [
        "B. filter() Function:"
      ],
      "metadata": {
        "id": "Tk6-vurxbm8k"
      }
    },
    {
      "cell_type": "code",
      "source": [
        "# Define a function is_positive\n",
        "def is_positive(num):\n",
        "    return num > 0\n",
        "\n",
        "# Use filter to create a list of positive numbers\n",
        "numbers = [1, -2, 3, -4, 5]\n",
        "positive_numbers = list(filter(is_positive, numbers))\n",
        "print(positive_numbers)\n"
      ],
      "metadata": {
        "colab": {
          "base_uri": "https://localhost:8080/"
        },
        "id": "MzLW9ExXbpI5",
        "outputId": "d6526250-9600-42c7-a059-1b5b406d8758"
      },
      "execution_count": 11,
      "outputs": [
        {
          "output_type": "stream",
          "name": "stdout",
          "text": [
            "[1, 3, 5]\n"
          ]
        }
      ]
    },
    {
      "cell_type": "markdown",
      "source": [
        "C. reduce() Function:"
      ],
      "metadata": {
        "id": "5xFRvGGSbsSu"
      }
    },
    {
      "cell_type": "code",
      "source": [
        "from functools import reduce\n",
        "\n",
        "# Define a function multiply\n",
        "def multiply(x, y):\n",
        "    return x * y\n",
        "\n",
        "# Use reduce to find the product of all numbers in a list\n",
        "numbers = [1, 2, 3, 4, 5]\n",
        "product = reduce(multiply, numbers)\n",
        "print(product)\n"
      ],
      "metadata": {
        "colab": {
          "base_uri": "https://localhost:8080/"
        },
        "id": "3Z5_5btgbvXP",
        "outputId": "26bf5d33-25d8-47d0-fd16-e7959154a5f7"
      },
      "execution_count": 12,
      "outputs": [
        {
          "output_type": "stream",
          "name": "stdout",
          "text": [
            "120\n"
          ]
        }
      ]
    }
  ]
}